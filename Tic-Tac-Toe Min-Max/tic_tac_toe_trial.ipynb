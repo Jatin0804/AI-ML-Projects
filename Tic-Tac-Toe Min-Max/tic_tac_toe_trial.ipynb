{
 "cells": [
  {
   "metadata": {},
   "cell_type": "markdown",
   "source": "# TIC TAC TOE GAME",
   "id": "1447118fc8fe2c8e"
  },
  {
   "metadata": {},
   "cell_type": "markdown",
   "source": "This game is very easy when played randomly by the computer.",
   "id": "ac06345b6a49a0f7"
  },
  {
   "metadata": {},
   "cell_type": "markdown",
   "source": "So we use the AI algorithm -> MIN MAX algorithm for better play style of the computer. ",
   "id": "3f9c7bfb62381327"
  },
  {
   "metadata": {},
   "cell_type": "markdown",
   "source": [
    "### MIN MAX Algorithm\n",
    "This algorithm focuses on optimizing the chances of winning by re-evaluating the chances and the best move to play so that it can win."
   ],
   "id": "aae49c00a368359"
  },
  {
   "metadata": {},
   "cell_type": "markdown",
   "source": "## Setting up the Tic-Tac-Toe Board",
   "id": "42662b02f0929bc5"
  },
  {
   "metadata": {
    "ExecuteTime": {
     "end_time": "2024-07-14T17:33:15.033467Z",
     "start_time": "2024-07-14T17:33:15.028599Z"
    }
   },
   "cell_type": "code",
   "source": [
    "import time\n",
    "\n",
    "\n",
    "def display_board(board):\n",
    "    \"\"\"\n",
    "    Parameters:\n",
    "    - board (list): A 2D list representing the Tic-Tac-Toe board.\n",
    "\n",
    "    Each cell of the board is displayed, separated by '|' for columns,\n",
    "    and rows are separated by a line of dashes ('-----').\n",
    "    \"\"\"\n",
    "    \n",
    "    for i, row in enumerate(board):\n",
    "        # Display the cells of the current row, separated by '|'\n",
    "        print('|'.join(row))\n",
    "\n",
    "        # Display a line of dashes to separate rows, but not after the last row\n",
    "        if i < len(board) - 1:\n",
    "            print('-' * 5)"
   ],
   "id": "5c7dde647f506aba",
   "outputs": [],
   "execution_count": 1
  },
  {
   "metadata": {
    "ExecuteTime": {
     "end_time": "2024-07-14T17:33:15.551818Z",
     "start_time": "2024-07-14T17:33:15.547888Z"
    }
   },
   "cell_type": "code",
   "source": [
    "# Create a 3x3 grid to represent the Tic-Tac-Toe board\n",
    "board = [[' ' for _ in range(3)] for _ in range(3)]\n",
    "\n",
    "display_board(board)"
   ],
   "id": "4551212e48a34006",
   "outputs": [
    {
     "name": "stdout",
     "output_type": "stream",
     "text": [
      " | | \n",
      "-----\n",
      " | | \n",
      "-----\n",
      " | | \n"
     ]
    }
   ],
   "execution_count": 2
  },
  {
   "metadata": {},
   "cell_type": "markdown",
   "source": "## Preparing the Game Environment",
   "id": "39b0b5076466d770"
  },
  {
   "metadata": {
    "ExecuteTime": {
     "end_time": "2024-07-14T17:33:16.601791Z",
     "start_time": "2024-07-14T17:33:16.597583Z"
    }
   },
   "cell_type": "code",
   "source": [
    "def check_win(board, player):\n",
    "    \"\"\"\n",
    "    Check if the specified player has won the Tic-Tac-Toe game.\n",
    "\n",
    "    Parameters:\n",
    "    - board (list): A 2D list representing the Tic-Tac-Toe board.\n",
    "    - player (str): The player to check for a win ('X' or 'O').\n",
    "\n",
    "    Returns:\n",
    "    - bool: True if the specified player has won, False otherwise.\n",
    "    \"\"\"\n",
    "    # Check rows\n",
    "    for row in board:\n",
    "        if all(cell == player for cell in row):\n",
    "            return True\n",
    "\n",
    "    # Check columns\n",
    "    for col in range(3):\n",
    "        if all(board[row][col] == player for row in range(3)):\n",
    "            return True\n",
    "\n",
    "    # Check diagonals\n",
    "    if all(board[i][i] == player for i in range(3)) or all(board[i][2 - i] == player for i in range(3)):\n",
    "        return True\n",
    "\n",
    "    return False"
   ],
   "id": "345a39cd335837e",
   "outputs": [],
   "execution_count": 3
  },
  {
   "metadata": {
    "ExecuteTime": {
     "end_time": "2024-07-14T17:33:17.038774Z",
     "start_time": "2024-07-14T17:33:17.035273Z"
    }
   },
   "cell_type": "code",
   "source": [
    "def is_draw(board):\n",
    "    \"\"\"\n",
    "    Check if the Tic-Tac-Toe game is a draw (no more empty spaces on the board).\n",
    "\n",
    "    Parameters:\n",
    "    - board (list): A 2D list representing the Tic-Tac-Toe board.\n",
    "\n",
    "    Returns:\n",
    "    - bool: True if the game is a draw, False otherwise.\n",
    "    \"\"\"\n",
    "    return all(cell != ' ' for row in board for cell in row)"
   ],
   "id": "643ecbd9f8cb08cd",
   "outputs": [],
   "execution_count": 4
  },
  {
   "metadata": {
    "ExecuteTime": {
     "end_time": "2024-07-14T17:33:17.366227Z",
     "start_time": "2024-07-14T17:33:17.363044Z"
    }
   },
   "cell_type": "code",
   "source": [
    "import time\n",
    "def player_move(board):\n",
    "    \"\"\"\n",
    "    Get the player's move (row and column) from the user input.\n",
    "\n",
    "    Parameters:\n",
    "    - board (list): A 2D list representing the Tic-Tac-Toe board.\n",
    "\n",
    "    Returns:\n",
    "    - tuple: The selected row and column coordinates.\n",
    "    \"\"\"\n",
    "    while True:\n",
    "        try:\n",
    "            time.sleep(1)\n",
    "            # Get input for row and column from the player\n",
    "            row = int(input(\"Enter row (0, 1, 2): \"))\n",
    "            col = int(input(\"Enter column (0, 1, 2): \"))\n",
    "\n",
    "            # Check if the input is within the valid range and the selected cell is empty\n",
    "            if 0 <= row <= 2 and 0 <= col <= 2 and board[row][col] == ' ':\n",
    "                return row, col\n",
    "            else:\n",
    "                print(\"Invalid move. Try again.\")\n",
    "        except ValueError:\n",
    "            # Handle the case where the input is not a valid integer\n",
    "            print(\"Invalid input. Enter numbers between 0 and 2.\")"
   ],
   "id": "3b8e911dfd4584ce",
   "outputs": [],
   "execution_count": 5
  },
  {
   "metadata": {
    "ExecuteTime": {
     "end_time": "2024-07-14T17:33:17.778104Z",
     "start_time": "2024-07-14T17:33:17.775818Z"
    }
   },
   "cell_type": "code",
   "source": "",
   "id": "c86bed48ac3e952f",
   "outputs": [],
   "execution_count": 5
  },
  {
   "metadata": {},
   "cell_type": "markdown",
   "source": "## Building the Minimax AI Player",
   "id": "36e055bb2a59bf02"
  },
  {
   "metadata": {
    "ExecuteTime": {
     "end_time": "2024-07-14T17:33:18.434932Z",
     "start_time": "2024-07-14T17:33:18.429907Z"
    }
   },
   "cell_type": "code",
   "source": [
    "def minimax(board, depth, is_maximizing, max_depth):\n",
    "    \"\"\"\n",
    "    Implement the Minimax algorithm for Tic-Tac-Toe.\n",
    "\n",
    "    This function recursively explores the game tree using the Minimax algorithm to determine the optimal move for the current player. It assigns scores to game states based on the outcome of the game or the specified depth.\n",
    "    \"\"\"\n",
    "\n",
    "    # Base case: Check if the game is won by 'X' or 'O' or if it's a draw\n",
    "    if check_win(board, 'X'):\n",
    "        return -1                 # 'X' wins, return a negative value\n",
    "    elif check_win(board, 'O'):\n",
    "        return 1                  # 'O' wins, return a positive value\n",
    "    elif is_draw(board) or depth == max_depth:\n",
    "        return 0                  # It's a draw or reached the specified depth, return 0\n",
    "\n",
    "    if is_maximizing:\n",
    "        # If maximizing, initialize the maximum evaluation score to negative infinity\n",
    "        max_eval = -float('inf')\n",
    "        for i in range(3):\n",
    "            for j in range(3):\n",
    "                if board[i][j] == ' ':\n",
    "                    # Simulate the move for the maximizing player ('O')\n",
    "                    board[i][j] = 'O'\n",
    "                    # Recursively call minimax for the next level with the minimizing player's turn\n",
    "                    eval = minimax(board, depth + 1, False, max_depth)\n",
    "                    # Undo the move\n",
    "                    board[i][j] = ' '\n",
    "                    # Update the maximum evaluation score\n",
    "                    max_eval = max(max_eval, eval)\n",
    "        return max_eval\n",
    "    else:\n",
    "        # If minimizing, initialize the minimum evaluation score to positive infinity\n",
    "        min_eval = float('inf')\n",
    "        for i in range(3):\n",
    "            for j in range(3):\n",
    "                if board[i][j] == ' ':\n",
    "                    # Simulate the move for the minimizing player ('X')\n",
    "                    board[i][j] = 'X'\n",
    "                    # Recursively call minimax for the next level with the maximizing player's turn\n",
    "                    eval = minimax(board, depth + 1, True, max_depth)\n",
    "                    # Undo the move\n",
    "                    board[i][j] = ' '\n",
    "                    # Update the minimum evaluation score\n",
    "                    min_eval = min(min_eval, eval)\n",
    "        return min_eval"
   ],
   "id": "1fb5f176d4f21fdb",
   "outputs": [],
   "execution_count": 6
  },
  {
   "metadata": {
    "ExecuteTime": {
     "end_time": "2024-07-14T17:33:18.836219Z",
     "start_time": "2024-07-14T17:33:18.832518Z"
    }
   },
   "cell_type": "code",
   "source": [
    "def ai_move(board, max_depth):\n",
    "    \"\"\"\n",
    "    Determine the optimal move for the AI player using Minimax algorithm.\n",
    "\n",
    "    This function iterates through each empty space on the board, simulates placing an 'O' in that space, and evaluates the move using the Minimax algorithm. \n",
    "    The AI player chooses the move with the highest evaluation score.\n",
    "    \"\"\"\n",
    "    best_eval = -float('inf')\n",
    "    best_move = None\n",
    "\n",
    "    for i in range(3):\n",
    "        for j in range(3):\n",
    "            if board[i][j] == ' ':\n",
    "                board[i][j] = 'O'\n",
    "                eval = minimax(board, 0, False, max_depth)\n",
    "                board[i][j] = ' '\n",
    "                if eval > best_eval:\n",
    "                    best_eval = eval\n",
    "                    best_move = (i, j)\n",
    "\n",
    "    return best_move"
   ],
   "id": "45bcada132e9414c",
   "outputs": [],
   "execution_count": 7
  },
  {
   "metadata": {
    "ExecuteTime": {
     "end_time": "2024-07-14T17:33:19.169088Z",
     "start_time": "2024-07-14T17:33:19.166222Z"
    }
   },
   "cell_type": "code",
   "source": "",
   "id": "af01c4e9869a4bf5",
   "outputs": [],
   "execution_count": 7
  },
  {
   "metadata": {},
   "cell_type": "markdown",
   "source": "## Playing the Game Against Our AI Player",
   "id": "8aa0e1ed72fff8c"
  },
  {
   "metadata": {
    "ExecuteTime": {
     "end_time": "2024-07-14T17:34:01.529525Z",
     "start_time": "2024-07-14T17:33:19.983865Z"
    }
   },
   "cell_type": "code",
   "source": [
    "def main():\n",
    "    \"\"\"\n",
    "\n",
    "    The game loop alternates between player and AI turns, displaying the current state of the board after each move.\n",
    "    The loop continues until there is a winner ('X' or 'O'), a draw, or the player chooses to exit the game.\n",
    "    \"\"\"\n",
    "\n",
    "    # Reset the game board\n",
    "    board = [[' ' for _ in range(3)] for _ in range(3)]\n",
    "\n",
    "    player_turn = True\n",
    "\n",
    "    while True:\n",
    "        display_board(board)\n",
    "\n",
    "        if player_turn:\n",
    "            print(\"\\n\")\n",
    "            print(\"Your turn:\")\n",
    "            row, col = player_move(board)\n",
    "            print(\"\\n\")\n",
    "            board[row][col] = 'X'\n",
    "        else:\n",
    "            print(\"\\n\")\n",
    "            input(\"Press Enter for the Ai player to go...\")\n",
    "            \"\"\"\n",
    "            Change the depth explored by the AI player by changing the number in\n",
    "            parentheses in the next line of code. The default value is 0.\n",
    "            \"\"\"\n",
    "            row, col = ai_move(board, 10)  \n",
    "            print(\"\\n\")\n",
    "            board[row][col] = 'O'\n",
    "\n",
    "        if check_win(board, 'X'):\n",
    "            display_board(board)\n",
    "            print(\"You win!\")\n",
    "            break\n",
    "        elif check_win(board, 'O'):\n",
    "            display_board(board)\n",
    "            print(\"AI wins!\")\n",
    "            break\n",
    "        elif is_draw(board):\n",
    "            display_board(board)\n",
    "            print(\"It's a draw!\")\n",
    "            break\n",
    "\n",
    "        player_turn = not player_turn\n",
    "\n",
    "if __name__ == \"__main__\":\n",
    "    main()\n"
   ],
   "id": "992e1b9332b1528a",
   "outputs": [
    {
     "name": "stdout",
     "output_type": "stream",
     "text": [
      " | | \n",
      "-----\n",
      " | | \n",
      "-----\n",
      " | | \n",
      "\n",
      "\n",
      "Your turn:\n",
      "\n",
      "\n",
      " | | \n",
      "-----\n",
      " |X| \n",
      "-----\n",
      " | | \n",
      "\n",
      "\n",
      "\n",
      "\n",
      "O| | \n",
      "-----\n",
      " |X| \n",
      "-----\n",
      " | | \n",
      "\n",
      "\n",
      "Your turn:\n",
      "\n",
      "\n",
      "O| | \n",
      "-----\n",
      " |X| \n",
      "-----\n",
      "X| | \n",
      "\n",
      "\n",
      "\n",
      "\n",
      "O| |O\n",
      "-----\n",
      " |X| \n",
      "-----\n",
      "X| | \n",
      "\n",
      "\n",
      "Your turn:\n",
      "\n",
      "\n",
      "O|X|O\n",
      "-----\n",
      " |X| \n",
      "-----\n",
      "X| | \n",
      "\n",
      "\n",
      "\n",
      "\n",
      "O|X|O\n",
      "-----\n",
      " |X| \n",
      "-----\n",
      "X|O| \n",
      "\n",
      "\n",
      "Your turn:\n",
      "\n",
      "\n",
      "O|X|O\n",
      "-----\n",
      "X|X| \n",
      "-----\n",
      "X|O| \n",
      "\n",
      "\n",
      "\n",
      "\n",
      "O|X|O\n",
      "-----\n",
      "X|X|O\n",
      "-----\n",
      "X|O| \n",
      "\n",
      "\n",
      "Your turn:\n",
      "\n",
      "\n",
      "O|X|O\n",
      "-----\n",
      "X|X|O\n",
      "-----\n",
      "X|O|X\n",
      "It's a draw!\n"
     ]
    }
   ],
   "execution_count": 8
  },
  {
   "metadata": {},
   "cell_type": "code",
   "outputs": [],
   "execution_count": null,
   "source": "",
   "id": "ae6e313505a6adf5"
  }
 ],
 "metadata": {
  "kernelspec": {
   "display_name": "Python 3",
   "language": "python",
   "name": "python3"
  },
  "language_info": {
   "codemirror_mode": {
    "name": "ipython",
    "version": 2
   },
   "file_extension": ".py",
   "mimetype": "text/x-python",
   "name": "python",
   "nbconvert_exporter": "python",
   "pygments_lexer": "ipython2",
   "version": "2.7.6"
  }
 },
 "nbformat": 4,
 "nbformat_minor": 5
}
